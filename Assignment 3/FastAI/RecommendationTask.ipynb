{
  "nbformat": 4,
  "nbformat_minor": 0,
  "metadata": {
    "colab": {
      "provenance": []
    },
    "kernelspec": {
      "name": "python3",
      "display_name": "Python 3"
    },
    "language_info": {
      "name": "python"
    }
  },
  "cells": [
    {
      "cell_type": "code",
      "source": [
        "# Unzipping the dataset\n",
        "import zipfile\n",
        "import os\n",
        "\n",
        "zip_path = '/content/universityPrediction.zip'\n",
        "extraction_path = '/content/data/universityPrediction'\n",
        "\n",
        "with zipfile.ZipFile(zip_path, 'r') as zip_ref:\n",
        "    zip_ref.extractall(extraction_path)\n",
        "\n",
        "# Listing the extracted files to verify\n",
        "extracted_files = os.listdir(extraction_path)\n",
        "print(extracted_files)\n"
      ],
      "metadata": {
        "colab": {
          "base_uri": "https://localhost:8080/"
        },
        "id": "FRMUvyjIawVV",
        "outputId": "59b65e72-a504-4c06-fbe7-f0795abb90d1"
      },
      "execution_count": 7,
      "outputs": [
        {
          "output_type": "stream",
          "name": "stdout",
          "text": [
            "['original_data.csv', 'score.csv']\n"
          ]
        }
      ]
    },
    {
      "cell_type": "code",
      "execution_count": 43,
      "metadata": {
        "colab": {
          "base_uri": "https://localhost:8080/"
        },
        "id": "n32Q9YLOZUq4",
        "outputId": "5d77a6b4-ebb9-4d96-9651-13fca268e4ed"
      },
      "outputs": [
        {
          "output_type": "stream",
          "name": "stdout",
          "text": [
            "Original Dataset:\n",
            "      userName                       major  researchExp  industryExp  \\\n",
            "0       143saf         Systems and Control            0           18   \n",
            "1   7790ashish   Manufacturing Engineering            0            0   \n",
            "2         AB25  (MIS / MSIM / MSIS / MSIT)            0           66   \n",
            "3     abhijitg                         NaN            0            0   \n",
            "4  abhijitgang                         MIS            0            0   \n",
            "\n",
            "  specialization  toeflScore program                 department toeflEssay  \\\n",
            "0       Robotics       112.0      MS  Instrumentation & Control         26   \n",
            "1            NaN         NaN      MS                          0        NaN   \n",
            "2            NaN        94.0      MS       Computer Engineering         21   \n",
            "3            NaN         NaN     NaN                          0        NaN   \n",
            "4            NaN        81.0      MS                   computer        NaN   \n",
            "\n",
            "   internExp  ...  termAndYear  confPubs                    ugCollege gmatA  \\\n",
            "0        5.0  ...  Fall - 2015         0  Dharamsinh Desai University   NaN   \n",
            "1        0.0  ...  Fall - 2013         0                          NaN   NaN   \n",
            "2        0.0  ...  Fall - 2015         0                     IET DAVV   NaN   \n",
            "3        0.0  ...          NaN       NaN                          NaN   NaN   \n",
            "4        0.0  ...  Fall - 2011         0              Pune University   NaN   \n",
            "\n",
            "    cgpa  gmatQ cgpaScale gmatV                         univName  admit  \n",
            "0   8.50    NaN        10   NaN  Worcester Polytechnic Institute      1  \n",
            "1   0.00    NaN         0   NaN  Worcester Polytechnic Institute      1  \n",
            "2  78.28    NaN       100   NaN  Worcester Polytechnic Institute      1  \n",
            "3   0.00    NaN         0   NaN  Worcester Polytechnic Institute      1  \n",
            "4  57.00    NaN       100   NaN  Worcester Polytechnic Institute      1  \n",
            "\n",
            "[5 rows x 26 columns]\n",
            "\n",
            "GRE Score Conversion Dataset:\n",
            "   old  newQ  newV\n",
            "0  800   166   170\n",
            "1  790   164   170\n",
            "2  780   163   170\n",
            "3  770   161   170\n",
            "4  760   160   170\n"
          ]
        }
      ],
      "source": [
        "import pandas as pd\n",
        "\n",
        "original_data_path = '/content/data/universityPrediction/original_data.csv'\n",
        "score_data_path = '/content/data/universityPrediction/score.csv'\n",
        "\n",
        "# Loading the datasets\n",
        "original_df = pd.read_csv(original_data_path)\n",
        "score_df = pd.read_csv(score_data_path)\n",
        "\n",
        "# Displaying the first few rows to understand the structure\n",
        "print(\"Original Dataset:\")\n",
        "print(original_df.head())\n",
        "\n",
        "print(\"\\nGRE Score Conversion Dataset:\")\n",
        "print(score_df.head())\n"
      ]
    },
    {
      "cell_type": "code",
      "source": [
        "import pandas as pd\n",
        "\n",
        "# Loading the student profiles dataset\n",
        "profiles_path = os.path.join(extraction_path, 'original_data.csv')  # Update if the filename is different\n",
        "profiles_df = pd.read_csv(profiles_path)\n",
        "\n",
        "print(profiles_df.head())\n",
        "print(profiles_df.info())\n"
      ],
      "metadata": {
        "colab": {
          "base_uri": "https://localhost:8080/"
        },
        "id": "lJP3YFaxZcGL",
        "outputId": "2d040f89-5271-4685-a2dd-7bb11bb070a1"
      },
      "execution_count": 44,
      "outputs": [
        {
          "output_type": "stream",
          "name": "stdout",
          "text": [
            "      userName                       major  researchExp  industryExp  \\\n",
            "0       143saf         Systems and Control            0           18   \n",
            "1   7790ashish   Manufacturing Engineering            0            0   \n",
            "2         AB25  (MIS / MSIM / MSIS / MSIT)            0           66   \n",
            "3     abhijitg                         NaN            0            0   \n",
            "4  abhijitgang                         MIS            0            0   \n",
            "\n",
            "  specialization  toeflScore program                 department toeflEssay  \\\n",
            "0       Robotics       112.0      MS  Instrumentation & Control         26   \n",
            "1            NaN         NaN      MS                          0        NaN   \n",
            "2            NaN        94.0      MS       Computer Engineering         21   \n",
            "3            NaN         NaN     NaN                          0        NaN   \n",
            "4            NaN        81.0      MS                   computer        NaN   \n",
            "\n",
            "   internExp  ...  termAndYear  confPubs                    ugCollege gmatA  \\\n",
            "0        5.0  ...  Fall - 2015         0  Dharamsinh Desai University   NaN   \n",
            "1        0.0  ...  Fall - 2013         0                          NaN   NaN   \n",
            "2        0.0  ...  Fall - 2015         0                     IET DAVV   NaN   \n",
            "3        0.0  ...          NaN       NaN                          NaN   NaN   \n",
            "4        0.0  ...  Fall - 2011         0              Pune University   NaN   \n",
            "\n",
            "    cgpa  gmatQ cgpaScale gmatV                         univName  admit  \n",
            "0   8.50    NaN        10   NaN  Worcester Polytechnic Institute      1  \n",
            "1   0.00    NaN         0   NaN  Worcester Polytechnic Institute      1  \n",
            "2  78.28    NaN       100   NaN  Worcester Polytechnic Institute      1  \n",
            "3   0.00    NaN         0   NaN  Worcester Polytechnic Institute      1  \n",
            "4  57.00    NaN       100   NaN  Worcester Polytechnic Institute      1  \n",
            "\n",
            "[5 rows x 26 columns]\n",
            "<class 'pandas.core.frame.DataFrame'>\n",
            "RangeIndex: 53644 entries, 0 to 53643\n",
            "Data columns (total 26 columns):\n",
            " #   Column           Non-Null Count  Dtype  \n",
            "---  ------           --------------  -----  \n",
            " 0   userName         53644 non-null  object \n",
            " 1   major            53257 non-null  object \n",
            " 2   researchExp      53644 non-null  int64  \n",
            " 3   industryExp      53644 non-null  int64  \n",
            " 4   specialization   31949 non-null  object \n",
            " 5   toeflScore       49230 non-null  float64\n",
            " 6   program          53322 non-null  object \n",
            " 7   department       53643 non-null  object \n",
            " 8   toeflEssay       11874 non-null  object \n",
            " 9   internExp        53630 non-null  float64\n",
            " 10  greV             52388 non-null  float64\n",
            " 11  greQ             52424 non-null  float64\n",
            " 12  userProfileLink  53644 non-null  object \n",
            " 13  journalPubs      53322 non-null  object \n",
            " 14  greA             50786 non-null  float64\n",
            " 15  topperCgpa       53641 non-null  float64\n",
            " 16  termAndYear      53322 non-null  object \n",
            " 17  confPubs         53322 non-null  object \n",
            " 18  ugCollege        51366 non-null  object \n",
            " 19  gmatA            119 non-null    float64\n",
            " 20  cgpa             53644 non-null  float64\n",
            " 21  gmatQ            123 non-null    float64\n",
            " 22  cgpaScale        53644 non-null  int64  \n",
            " 23  gmatV            114 non-null    float64\n",
            " 24  univName         53644 non-null  object \n",
            " 25  admit            53644 non-null  int64  \n",
            "dtypes: float64(10), int64(4), object(12)\n",
            "memory usage: 10.6+ MB\n",
            "None\n"
          ]
        }
      ]
    },
    {
      "cell_type": "code",
      "source": [
        "# Displaying column names in the original dataset\n",
        "print(\"Column names in Original Dataset:\")\n",
        "print(original_df.columns.tolist())\n"
      ],
      "metadata": {
        "colab": {
          "base_uri": "https://localhost:8080/"
        },
        "id": "Rs6JkG8pdA31",
        "outputId": "d0340a88-7742-450d-bd07-68c0b3f8edb3"
      },
      "execution_count": 45,
      "outputs": [
        {
          "output_type": "stream",
          "name": "stdout",
          "text": [
            "Column names in Original Dataset:\n",
            "['userName', 'major', 'researchExp', 'industryExp', 'specialization', 'toeflScore', 'program', 'department', 'toeflEssay', 'internExp', 'greV', 'greQ', 'userProfileLink', 'journalPubs', 'greA', 'topperCgpa', 'termAndYear', 'confPubs', 'ugCollege', 'gmatA', 'cgpa', 'gmatQ', 'cgpaScale', 'gmatV', 'univName', 'admit']\n"
          ]
        }
      ]
    },
    {
      "cell_type": "code",
      "source": [
        "from sklearn.impute import SimpleImputer\n",
        "import numpy as np\n",
        "\n",
        "# Numerical imputation\n",
        "num_imputer = SimpleImputer(strategy='mean')  # or 'median'\n",
        "\n",
        "numerical_features = ['greQ', 'greV', 'greA', 'toeflScore', 'cgpa']\n",
        "\n",
        "original_df[numerical_features] = num_imputer.fit_transform(original_df[numerical_features])\n",
        "\n",
        "# Categorical imputation\n",
        "cat_imputer = SimpleImputer(strategy='most_frequent')  # or use strategy='constant', fill_value='unknown'\n",
        "\n",
        "categorical_features = ['major', 'program']\n",
        "\n",
        "original_df[categorical_features] = cat_imputer.fit_transform(original_df[categorical_features])\n",
        "\n",
        "print(original_df.isnull().sum())\n"
      ],
      "metadata": {
        "colab": {
          "base_uri": "https://localhost:8080/"
        },
        "id": "ydCSK7sxh1eK",
        "outputId": "8e963bda-64d2-4c20-8b7a-b2e08f4ba650"
      },
      "execution_count": 68,
      "outputs": [
        {
          "output_type": "stream",
          "name": "stdout",
          "text": [
            "userName               0\n",
            "major                  0\n",
            "researchExp            0\n",
            "industryExp            0\n",
            "specialization     21695\n",
            "toeflScore             0\n",
            "program                0\n",
            "department             1\n",
            "toeflEssay         41770\n",
            "internExp              0\n",
            "greV                   0\n",
            "greQ                   0\n",
            "userProfileLink        0\n",
            "journalPubs          322\n",
            "greA                   0\n",
            "topperCgpa             3\n",
            "termAndYear          322\n",
            "confPubs             322\n",
            "ugCollege           2278\n",
            "gmatA              53525\n",
            "cgpa                   0\n",
            "gmatQ              53521\n",
            "cgpaScale              0\n",
            "gmatV              53530\n",
            "univName               0\n",
            "admit                  0\n",
            "dtype: int64\n"
          ]
        }
      ]
    },
    {
      "cell_type": "code",
      "source": [
        "from sklearn.model_selection import train_test_split\n",
        "from sklearn.ensemble import RandomForestClassifier\n",
        "from sklearn.metrics import accuracy_score\n",
        "\n",
        "features = ['greQ', 'greV', 'greA', 'toeflScore', 'cgpa']\n",
        "target = 'admit'\n",
        "\n",
        "X = original_df[features]\n",
        "y = original_df[target].astype('int')\n",
        "\n",
        "# Splitting the dataset\n",
        "X_train, X_test, y_train, y_test = train_test_split(X, y, test_size=0.4, random_state=42)\n",
        "\n",
        "# Initializing and training the classifier\n",
        "clf = RandomForestClassifier(random_state=42)\n",
        "clf.fit(X_train, y_train)\n",
        "\n",
        "# Predictions and evaluation\n",
        "predictions = clf.predict(X_test)\n",
        "print(f\"Accuracy: {accuracy_score(y_test, predictions)}\")\n",
        "\n"
      ],
      "metadata": {
        "colab": {
          "base_uri": "https://localhost:8080/"
        },
        "id": "1GAydsMFZmc7",
        "outputId": "38970093-8abc-4f02-d878-f44823d3c735"
      },
      "execution_count": 69,
      "outputs": [
        {
          "output_type": "stream",
          "name": "stdout",
          "text": [
            "Accuracy: 0.5664554012489514\n"
          ]
        }
      ]
    },
    {
      "cell_type": "code",
      "source": [
        "student_profile = {'greQ': 360, 'greV': 355, 'greA': 4.0, 'toeflScore': 117, 'cgpa': 3.8}\n",
        "\n",
        "# Converting to DataFrame\n",
        "new_student_df = pd.DataFrame([student_profile])\n",
        "\n",
        "# Predicting the admission probability\n",
        "admission_probability = clf.predict_proba(new_student_df)[0]\n",
        "\n",
        "print(f\"Admission Probability: {admission_probability}\")\n"
      ],
      "metadata": {
        "colab": {
          "base_uri": "https://localhost:8080/"
        },
        "id": "Egxa5qe7fZWL",
        "outputId": "fc60db1b-d503-4814-d8d9-bdd1148e36fc"
      },
      "execution_count": 70,
      "outputs": [
        {
          "output_type": "stream",
          "name": "stdout",
          "text": [
            "Admission Probability: [0.28445238 0.71554762]\n"
          ]
        }
      ]
    }
  ]
}