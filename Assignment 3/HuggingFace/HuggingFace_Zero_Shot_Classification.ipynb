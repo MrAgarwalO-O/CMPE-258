{
  "nbformat": 4,
  "nbformat_minor": 0,
  "metadata": {
    "colab": {
      "provenance": []
    },
    "kernelspec": {
      "name": "python3",
      "display_name": "Python 3"
    },
    "language_info": {
      "name": "python"
    }
  },
  "cells": [
    {
      "cell_type": "code",
      "execution_count": 1,
      "metadata": {
        "colab": {
          "base_uri": "https://localhost:8080/"
        },
        "id": "BsNTW6-RNAdH",
        "outputId": "99774f73-ca86-4cf1-e1c5-312b49ff10ec"
      },
      "outputs": [
        {
          "output_type": "stream",
          "name": "stdout",
          "text": [
            "Requirement already satisfied: transformers in /usr/local/lib/python3.10/dist-packages (4.38.2)\n",
            "Requirement already satisfied: filelock in /usr/local/lib/python3.10/dist-packages (from transformers) (3.13.1)\n",
            "Requirement already satisfied: huggingface-hub<1.0,>=0.19.3 in /usr/local/lib/python3.10/dist-packages (from transformers) (0.20.3)\n",
            "Requirement already satisfied: numpy>=1.17 in /usr/local/lib/python3.10/dist-packages (from transformers) (1.25.2)\n",
            "Requirement already satisfied: packaging>=20.0 in /usr/local/lib/python3.10/dist-packages (from transformers) (24.0)\n",
            "Requirement already satisfied: pyyaml>=5.1 in /usr/local/lib/python3.10/dist-packages (from transformers) (6.0.1)\n",
            "Requirement already satisfied: regex!=2019.12.17 in /usr/local/lib/python3.10/dist-packages (from transformers) (2023.12.25)\n",
            "Requirement already satisfied: requests in /usr/local/lib/python3.10/dist-packages (from transformers) (2.31.0)\n",
            "Requirement already satisfied: tokenizers<0.19,>=0.14 in /usr/local/lib/python3.10/dist-packages (from transformers) (0.15.2)\n",
            "Requirement already satisfied: safetensors>=0.4.1 in /usr/local/lib/python3.10/dist-packages (from transformers) (0.4.2)\n",
            "Requirement already satisfied: tqdm>=4.27 in /usr/local/lib/python3.10/dist-packages (from transformers) (4.66.2)\n",
            "Requirement already satisfied: fsspec>=2023.5.0 in /usr/local/lib/python3.10/dist-packages (from huggingface-hub<1.0,>=0.19.3->transformers) (2023.6.0)\n",
            "Requirement already satisfied: typing-extensions>=3.7.4.3 in /usr/local/lib/python3.10/dist-packages (from huggingface-hub<1.0,>=0.19.3->transformers) (4.10.0)\n",
            "Requirement already satisfied: charset-normalizer<4,>=2 in /usr/local/lib/python3.10/dist-packages (from requests->transformers) (3.3.2)\n",
            "Requirement already satisfied: idna<4,>=2.5 in /usr/local/lib/python3.10/dist-packages (from requests->transformers) (3.6)\n",
            "Requirement already satisfied: urllib3<3,>=1.21.1 in /usr/local/lib/python3.10/dist-packages (from requests->transformers) (2.0.7)\n",
            "Requirement already satisfied: certifi>=2017.4.17 in /usr/local/lib/python3.10/dist-packages (from requests->transformers) (2024.2.2)\n"
          ]
        }
      ],
      "source": [
        "!pip install transformers"
      ]
    },
    {
      "cell_type": "code",
      "source": [
        "from transformers import pipeline\n",
        "classifier = pipeline(\n",
        "                      task=\"zero-shot-classification\",\n",
        "                      device=-1,\n",
        "                      model=\"facebook/bart-large-mnli\"\n",
        "                    )"
      ],
      "metadata": {
        "id": "9lFMKZ-kNFH0"
      },
      "execution_count": 3,
      "outputs": []
    },
    {
      "cell_type": "code",
      "source": [
        "import pprint\n",
        "\n",
        "text_piece = \"The food at this place is really good.\"\n",
        "labels = [\"Food\", \"Employee\", \"Restaurant\", \"Party\", \"Nature\", \"Car\"]\n",
        "\n",
        "predictions = classifier(text_piece, labels, multi_class=False)\n",
        "pprint.pprint(predictions)"
      ],
      "metadata": {
        "colab": {
          "base_uri": "https://localhost:8080/"
        },
        "id": "W4Jm1-YsNHfw",
        "outputId": "77c6d0d2-3a54-437c-9cbe-68ea5f90a400"
      },
      "execution_count": 8,
      "outputs": [
        {
          "output_type": "stream",
          "name": "stderr",
          "text": [
            "The `multi_class` argument has been deprecated and renamed to `multi_label`. `multi_class` will be removed in a future version of Transformers.\n"
          ]
        },
        {
          "output_type": "stream",
          "name": "stdout",
          "text": [
            "{'labels': ['Food', 'Restaurant', 'Employee', 'Car', 'Party', 'Nature'],\n",
            " 'scores': [0.6570181250572205,\n",
            "            0.15241344273090363,\n",
            "            0.10275789350271225,\n",
            "            0.043737731873989105,\n",
            "            0.027072569355368614,\n",
            "            0.017000190913677216],\n",
            " 'sequence': 'The food at this place is really good.'}\n"
          ]
        }
      ]
    },
    {
      "cell_type": "code",
      "source": [
        "import pprint\n",
        "\n",
        "text_piece = \"The food at this place is really good.\"\n",
        "labels = [\"Food\", \"Employee\", \"Restaurant\", \"Party\", \"Nature\", \"Car\"]\n",
        "template = \"The diners are in the {}\"\n",
        "predictions = classifier(text_piece,\n",
        "           labels,\n",
        "           multi_class=False,\n",
        "           hypothesis_template=template\n",
        "           )"
      ],
      "metadata": {
        "colab": {
          "base_uri": "https://localhost:8080/"
        },
        "id": "fpQ8CD5sOEec",
        "outputId": "e08b0471-5ad4-4a3e-f35d-1ec43737314d"
      },
      "execution_count": 9,
      "outputs": [
        {
          "output_type": "stream",
          "name": "stderr",
          "text": [
            "The `multi_class` argument has been deprecated and renamed to `multi_label`. `multi_class` will be removed in a future version of Transformers.\n"
          ]
        }
      ]
    },
    {
      "cell_type": "code",
      "source": [
        "pprint.pprint(predictions)"
      ],
      "metadata": {
        "colab": {
          "base_uri": "https://localhost:8080/"
        },
        "id": "SwFzsS-0OIdi",
        "outputId": "bf130336-c81b-4ffc-fd80-b0f140364703"
      },
      "execution_count": 10,
      "outputs": [
        {
          "output_type": "stream",
          "name": "stdout",
          "text": [
            "{'labels': ['Restaurant', 'Food', 'Employee', 'Party', 'Nature', 'Car'],\n",
            " 'scores': [0.42197832465171814,\n",
            "            0.30330342054367065,\n",
            "            0.10521266609430313,\n",
            "            0.07092472165822983,\n",
            "            0.06462220847606659,\n",
            "            0.033958643674850464],\n",
            " 'sequence': 'The food at this place is really good.'}\n"
          ]
        }
      ]
    },
    {
      "cell_type": "code",
      "source": [
        "import pprint\n",
        "\n",
        "text_piece = \"The food at this place is really good.\"\n",
        "labels = [\"Positive\", \"Negative\", \"Neutral\"]\n",
        "template = \"The sentiment of this review is {}\"\n",
        "predictions = classifier(text_piece,\n",
        "           labels,\n",
        "           multi_class=False,\n",
        "           hypothesis_template=template\n",
        "           )\n",
        "pprint.pprint(predictions)"
      ],
      "metadata": {
        "colab": {
          "base_uri": "https://localhost:8080/"
        },
        "id": "PBSmmNKAOLox",
        "outputId": "b9cbae35-31f0-4b78-fc57-39461f141592"
      },
      "execution_count": 11,
      "outputs": [
        {
          "output_type": "stream",
          "name": "stderr",
          "text": [
            "The `multi_class` argument has been deprecated and renamed to `multi_label`. `multi_class` will be removed in a future version of Transformers.\n"
          ]
        },
        {
          "output_type": "stream",
          "name": "stdout",
          "text": [
            "{'labels': ['Positive', 'Neutral', 'Negative'],\n",
            " 'scores': [0.8953710794448853, 0.08658833056688309, 0.01804058812558651],\n",
            " 'sequence': 'The food at this place is really good.'}\n"
          ]
        }
      ]
    }
  ]
}